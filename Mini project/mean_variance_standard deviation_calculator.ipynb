{
 "cells": [
  {
   "cell_type": "code",
   "execution_count": 1,
   "metadata": {},
   "outputs": [],
   "source": [
    "import numpy as np"
   ]
  },
  {
   "cell_type": "code",
   "execution_count": 3,
   "metadata": {},
   "outputs": [
    {
     "name": "stdout",
     "output_type": "stream",
     "text": [
      "List:  [0, 1, 2, 3, 4, 5, 6, 7, 8]\n",
      "{'mean': [array([3., 4., 5.]), array([1., 4., 7.]), 4.0], 'variance': [array([6., 6., 6.]), array([0.66666667, 0.66666667, 0.66666667]), 6.666666666666667], 'standard deviation': [array([2.44948974, 2.44948974, 2.44948974]), array([0.81649658, 0.81649658, 0.81649658]), 2.581988897471611], 'max': [array([6, 7, 8]), array([2, 5, 8]), 8], 'min': [array([0, 1, 2]), array([0, 3, 6]), 0], 'sum': [array([ 9, 12, 15]), array([ 3, 12, 21]), 36]}\n"
     ]
    }
   ],
   "source": [
    "# Name: Farhan Wily\n",
    "\n",
    "# Import Library\n",
    "import numpy as np\n",
    "\n",
    "# Def Function\n",
    "def calculate(input_matrix):\n",
    "  result = {\n",
    "    'mean': [np.mean(input_matrix, axis=0), np.mean(input_matrix, axis=1), np.mean(input_matrix)],\n",
    "    'variance': [np.var(input_matrix, axis=0), np.var(input_matrix, axis=1), np.var(input_matrix)],\n",
    "    'standard deviation': [np.std(input_matrix, axis=0), np.std(input_matrix, axis=1), np.std(input_matrix)],\n",
    "    'max': [np.max(input_matrix, axis=0), np.max(input_matrix, axis=1), np.max(input_matrix)],\n",
    "    'min': [np.min(input_matrix, axis=0), np.min(input_matrix, axis=1), np.min(input_matrix)],\n",
    "    'sum': [np.sum(input_matrix, axis=0), np.sum(input_matrix, axis=1), np.sum(input_matrix)]\n",
    "  }\n",
    "  return result\n",
    "\n",
    "# Make input list <9\n",
    "my_list = []\n",
    "for i in range (9):\n",
    "  digit = int(input(f'masukkan digit ke-{i+1}: '))\n",
    "  my_list.append(digit)\n",
    "print('List: ', my_list)\n",
    "  \n",
    "if len(my_list)<9:\n",
    "  print('List must contain nine numbers')\n",
    "else:\n",
    "  input_matrix = np.array(my_list).reshape(3,3)\n",
    "\n",
    "result = calculate(input_matrix)\n",
    "print(result)"
   ]
  },
  {
   "cell_type": "code",
   "execution_count": null,
   "metadata": {},
   "outputs": [
    {
     "name": "stdout",
     "output_type": "stream",
     "text": [
      "List:  [0, 1, 2, 3, 4, 5, 6, 7, 8]\n",
      "{'mean': [array([3., 4., 5.]), array([1., 4., 7.]), 4.0], 'variance': [array([6., 6., 6.]), array([0.66666667, 0.66666667, 0.66666667]), 6.666666666666667], 'standard deviation': [array([2.44948974, 2.44948974, 2.44948974]), array([0.81649658, 0.81649658, 0.81649658]), 2.581988897471611], 'max': [array([6, 7, 8]), array([2, 5, 8]), 8], 'min': [array([0, 1, 2]), array([0, 3, 6]), 0], 'sum': [array([ 9, 12, 15]), array([ 3, 12, 21]), 36]}\n"
     ]
    }
   ],
   "source": [
    "# Name: Farhan Wily\n",
    "\n",
    "# Import Library\n",
    "import numpy as np\n",
    "\n",
    "# Def Function\n",
    "def calculate(input_matrix):\n",
    "  result = {\n",
    "    'mean': [np.mean(input_matrix, axis=0), np.mean(input_matrix, axis=1), np.mean(input_matrix)],\n",
    "    'variance': [np.var(input_matrix, axis=0), np.var(input_matrix, axis=1), np.var(input_matrix)],\n",
    "    'standard deviation': [np.std(input_matrix, axis=0), np.std(input_matrix, axis=1), np.std(input_matrix)],\n",
    "    'max': [np.max(input_matrix, axis=0), np.max(input_matrix, axis=1), np.max(input_matrix)],\n",
    "    'min': [np.min(input_matrix, axis=0), np.min(input_matrix, axis=1), np.min(input_matrix)],\n",
    "    'sum': [np.sum(input_matrix, axis=0), np.sum(input_matrix, axis=1), np.sum(input_matrix)]\n",
    "  }\n",
    "  return result\n",
    "\n",
    "# Make input list <9\n",
    "my_list = []\n",
    "for i in range (9):\n",
    "  digit = int(input(f'masukkan digit ke-{i+1}: '))\n",
    "  my_list.append(digit)\n",
    "print('List: ', my_list)\n",
    "  \n",
    "if len(my_list)<9:\n",
    "  print('List must contain nine numbers')\n",
    "else:\n",
    "  input_matrix = np.array(my_list).reshape(3,3)\n",
    "\n",
    "result = calculate(input_matrix)\n",
    "print(result)"
   ]
  }
 ],
 "metadata": {
  "interpreter": {
   "hash": "20b07d132bd9ae5eed2592421ec2defb589270192ac2c1b931198ba84ee44bf3"
  },
  "kernelspec": {
   "display_name": "Python 3.10.4 64-bit",
   "language": "python",
   "name": "python3"
  },
  "language_info": {
   "codemirror_mode": {
    "name": "ipython",
    "version": 3
   },
   "file_extension": ".py",
   "mimetype": "text/x-python",
   "name": "python",
   "nbconvert_exporter": "python",
   "pygments_lexer": "ipython3",
   "version": "3.10.4"
  },
  "orig_nbformat": 4
 },
 "nbformat": 4,
 "nbformat_minor": 2
}
